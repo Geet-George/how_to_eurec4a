{
 "cells": [
  {
   "cell_type": "markdown",
   "id": "5545bb57",
   "metadata": {},
   "source": [
    "# Ocean temperatures: AXBTs and SWIFT buoys\n",
    "\n",
    "During EUREC4A/ATOMIC the P-3 deployed 165 Airborne eXpendable BathyThermographs (AXBTs)\n",
    "to measure profiles of ocean temperature. (These are kind of the oceanic equivalent of\n",
    "dropsondes but they don't measure salinity.) Often these were dropped around\n",
    "other ocean temperature measurements - for example the autonomous\n",
    "Surface Wave Instrument Floats with Tracking (SWIFT) buoys deployed from the\n",
    "Ron Brown by Elizabeth Thompson of NOAA and her colleagues. The SWIFT deployment\n",
    "is described in {cite}`Quinn:2021`.\n",
    "\n",
    "Let's take a look at some of the AXBT measurements and how they compare to the\n",
    "SWIFTs."
   ]
  },
  {
   "cell_type": "code",
   "execution_count": 1,
   "id": "7530b12c",
   "metadata": {},
   "outputs": [],
   "source": [
    "import xarray as xr\n",
    "import numpy as np\n",
    "import datetime\n",
    "\n",
    "import matplotlib.pyplot as plt\n",
    "plt.style.use([\"./mplstyle/book\"])\n",
    "%matplotlib inline\n",
    "\n",
    "import eurec4a\n",
    "cat = eurec4a.get_intake_catalog()"
   ]
  },
  {
   "cell_type": "markdown",
   "id": "63b5f2e1",
   "metadata": {},
   "source": [
    "Mapping takes quite some setup. Maybe we'll encapsulate this later but for now we repeat code\n",
    "in each notebook."
   ]
  },
  {
   "cell_type": "code",
   "execution_count": 2,
   "id": "f131c039",
   "metadata": {
    "tags": [
     "hide-cell"
    ]
   },
   "outputs": [],
   "source": [
    "import matplotlib as mpl\n",
    "import matplotlib.ticker as mticker\n",
    "\n",
    "import cartopy.crs as ccrs\n",
    "from   cartopy.feature import LAND\n",
    "from   cartopy.mpl.gridliner import LONGITUDE_FORMATTER, LATITUDE_FORMATTER\n",
    "def ax_to_map(ax, lon_w = -60.5, lon_e = -49, lat_s = 10, lat_n = 16.5):\n",
    "    # Defining boundaries of the plot\n",
    "    ax.set_extent([lon_w,lon_e,lat_s,lat_n]) # lon west, lon east, lat south, lat north\n",
    "    ax.coastlines(resolution='10m',linewidth=1.5,zorder=1);\n",
    "    ax.add_feature(LAND,facecolor='0.9')\n",
    "\n",
    "def set_up_map(plt, lon_w = -60.5, lon_e = -49, lat_s = 10, lat_n = 16.5):\n",
    "    ax = plt.axes(projection=ccrs.PlateCarree())\n",
    "    ax_to_map(ax, lon_w, lon_e, lat_s, lat_n)\n",
    "    return(ax)\n",
    "\n",
    "def add_gridlines(ax):\n",
    "    # Assigning axes ticks\n",
    "    xticks = np.arange(-65,0,2.5)\n",
    "    yticks = np.arange(0,25,2.5)\n",
    "    gl = ax.gridlines(crs=ccrs.PlateCarree(), draw_labels=True, linewidth=1,\n",
    "                      color='black', alpha=0.5, linestyle='dotted')\n",
    "    gl.xlocator = mticker.FixedLocator(xticks)\n",
    "    gl.ylocator = mticker.FixedLocator(yticks)\n",
    "    gl.xformatter = LONGITUDE_FORMATTER\n",
    "    gl.yformatter = LATITUDE_FORMATTER\n",
    "    gl.xlabel_style = {'size': 10, 'color': 'k'}\n",
    "    gl.ylabel_style = {'size': 10, 'color': 'k'}\n",
    "    gl.right_labels = False\n",
    "    gl.bottom_labels = False\n",
    "    gl.xlabel = {'Latitude'}"
   ]
  },
  {
   "cell_type": "markdown",
   "id": "cb073805",
   "metadata": {},
   "source": [
    "What days did the P-3 fly on? We can find out via the flight segmentation files."
   ]
  },
  {
   "cell_type": "code",
   "execution_count": 3,
   "id": "eeccdc39",
   "metadata": {},
   "outputs": [],
   "source": [
    "# On what days did the P-3 fly? These are UTC date\n",
    "all_flight_segments = eurec4a.get_flight_segments()\n",
    "flight_dates = np.unique([np.datetime64(flight[\"takeoff\"]).astype(\"datetime64[D]\")\n",
    "                          for flight in all_flight_segments[\"P3\"].values()])"
   ]
  },
  {
   "cell_type": "markdown",
   "id": "773dbfa7",
   "metadata": {},
   "source": [
    "Now set up colors to code each flight date during the experiment. One could choose\n",
    "a categorical palette so the colors were as different from each other as possible.\n",
    "Here we'll choose from a continuous set that spans the experiment so days that are\n",
    "close in time are also close in color."
   ]
  },
  {
   "cell_type": "code",
   "execution_count": 4,
   "id": "01940add",
   "metadata": {
    "tags": [
     "hide-cell"
    ]
   },
   "outputs": [],
   "source": [
    "# Like mpl.colors.Normalize but works also with datetime64 objects\n",
    "def mk_norm(vmin, vmax):\n",
    "    def norm(values):\n",
    "        return (values - vmin) / (vmax - vmin)\n",
    "    return norm\n",
    "norm = mk_norm(np.datetime64(\"2020-01-15\"),\n",
    "               np.datetime64(\"2020-02-15\"))\n",
    "\n",
    "# color map for things coded by flight date\n",
    "#   Sample from a continuous color map running from start to end of experiment\n",
    "def color_of_day(day):\n",
    "    return plt.cm.viridis(norm(day), alpha=0.9)"
   ]
  },
  {
   "cell_type": "markdown",
   "id": "387f5b93",
   "metadata": {},
   "source": [
    "The P-3 only deployed AXBTs on some flights, and the SWIFT buoys were only deployed\n",
    "on a subset of those dates."
   ]
  },
  {
   "cell_type": "code",
   "execution_count": 5,
   "id": "9bade5a1",
   "metadata": {},
   "outputs": [
    {
     "ename": "HTTPError",
     "evalue": "404 Not Found\nError {\n    code = 404;\n    message = \"Datasets/ATOMIC/data/swift_drifters/EUREC4A_ATOMIC_SWIFT16_All_v2.1.nc\";\n};\n",
     "output_type": "error",
     "traceback": [
      "\u001b[0;31m---------------------------------------------------------------------------\u001b[0m",
      "\u001b[0;31mHTTPError\u001b[0m                                 Traceback (most recent call last)",
      "\u001b[0;32m/tmp/ipykernel_5876/4194817175.py\u001b[0m in \u001b[0;36m<module>\u001b[0;34m\u001b[0m\n\u001b[1;32m      1\u001b[0m \u001b[0maxbts\u001b[0m \u001b[0;34m=\u001b[0m \u001b[0mcat\u001b[0m\u001b[0;34m.\u001b[0m\u001b[0mP3\u001b[0m\u001b[0;34m.\u001b[0m\u001b[0mAXBT\u001b[0m\u001b[0;34m.\u001b[0m\u001b[0mLevel_3\u001b[0m\u001b[0;34m.\u001b[0m\u001b[0mto_dask\u001b[0m\u001b[0;34m(\u001b[0m\u001b[0;34m)\u001b[0m\u001b[0;34m\u001b[0m\u001b[0;34m\u001b[0m\u001b[0m\n\u001b[0;32m----> 2\u001b[0;31m \u001b[0mswifts\u001b[0m \u001b[0;34m=\u001b[0m \u001b[0;34m[\u001b[0m\u001b[0mcat\u001b[0m\u001b[0;34m[\u001b[0m\u001b[0ms\u001b[0m\u001b[0;34m]\u001b[0m\u001b[0;34m.\u001b[0m\u001b[0mall\u001b[0m\u001b[0;34m.\u001b[0m\u001b[0mto_dask\u001b[0m\u001b[0;34m(\u001b[0m\u001b[0;34m)\u001b[0m \u001b[0;32mfor\u001b[0m \u001b[0ms\u001b[0m \u001b[0;32min\u001b[0m \u001b[0mlist\u001b[0m\u001b[0;34m(\u001b[0m\u001b[0mcat\u001b[0m\u001b[0;34m)\u001b[0m \u001b[0;32mif\u001b[0m \u001b[0;34m\"SWIFT\"\u001b[0m \u001b[0;32min\u001b[0m \u001b[0ms\u001b[0m\u001b[0;34m]\u001b[0m\u001b[0;34m\u001b[0m\u001b[0;34m\u001b[0m\u001b[0m\n\u001b[0m\u001b[1;32m      3\u001b[0m axbt_dates = np.intersect1d(np.unique(axbts.time.astype(\"datetime64[D]\").values),\n\u001b[1;32m      4\u001b[0m                             flight_dates)\n\u001b[1;32m      5\u001b[0m \u001b[0;34m\u001b[0m\u001b[0m\n",
      "\u001b[0;32m/tmp/ipykernel_5876/4194817175.py\u001b[0m in \u001b[0;36m<listcomp>\u001b[0;34m(.0)\u001b[0m\n\u001b[1;32m      1\u001b[0m \u001b[0maxbts\u001b[0m \u001b[0;34m=\u001b[0m \u001b[0mcat\u001b[0m\u001b[0;34m.\u001b[0m\u001b[0mP3\u001b[0m\u001b[0;34m.\u001b[0m\u001b[0mAXBT\u001b[0m\u001b[0;34m.\u001b[0m\u001b[0mLevel_3\u001b[0m\u001b[0;34m.\u001b[0m\u001b[0mto_dask\u001b[0m\u001b[0;34m(\u001b[0m\u001b[0;34m)\u001b[0m\u001b[0;34m\u001b[0m\u001b[0;34m\u001b[0m\u001b[0m\n\u001b[0;32m----> 2\u001b[0;31m \u001b[0mswifts\u001b[0m \u001b[0;34m=\u001b[0m \u001b[0;34m[\u001b[0m\u001b[0mcat\u001b[0m\u001b[0;34m[\u001b[0m\u001b[0ms\u001b[0m\u001b[0;34m]\u001b[0m\u001b[0;34m.\u001b[0m\u001b[0mall\u001b[0m\u001b[0;34m.\u001b[0m\u001b[0mto_dask\u001b[0m\u001b[0;34m(\u001b[0m\u001b[0;34m)\u001b[0m \u001b[0;32mfor\u001b[0m \u001b[0ms\u001b[0m \u001b[0;32min\u001b[0m \u001b[0mlist\u001b[0m\u001b[0;34m(\u001b[0m\u001b[0mcat\u001b[0m\u001b[0;34m)\u001b[0m \u001b[0;32mif\u001b[0m \u001b[0;34m\"SWIFT\"\u001b[0m \u001b[0;32min\u001b[0m \u001b[0ms\u001b[0m\u001b[0;34m]\u001b[0m\u001b[0;34m\u001b[0m\u001b[0;34m\u001b[0m\u001b[0m\n\u001b[0m\u001b[1;32m      3\u001b[0m axbt_dates = np.intersect1d(np.unique(axbts.time.astype(\"datetime64[D]\").values),\n\u001b[1;32m      4\u001b[0m                             flight_dates)\n\u001b[1;32m      5\u001b[0m \u001b[0;34m\u001b[0m\u001b[0m\n",
      "\u001b[0;32m/usr/share/miniconda/envs/how_to_eurec4a/lib/python3.8/site-packages/intake_xarray/base.py\u001b[0m in \u001b[0;36mto_dask\u001b[0;34m(self)\u001b[0m\n\u001b[1;32m     67\u001b[0m     \u001b[0;32mdef\u001b[0m \u001b[0mto_dask\u001b[0m\u001b[0;34m(\u001b[0m\u001b[0mself\u001b[0m\u001b[0;34m)\u001b[0m\u001b[0;34m:\u001b[0m\u001b[0;34m\u001b[0m\u001b[0;34m\u001b[0m\u001b[0m\n\u001b[1;32m     68\u001b[0m         \u001b[0;34m\"\"\"Return xarray object where variables are dask arrays\"\"\"\u001b[0m\u001b[0;34m\u001b[0m\u001b[0;34m\u001b[0m\u001b[0m\n\u001b[0;32m---> 69\u001b[0;31m         \u001b[0;32mreturn\u001b[0m \u001b[0mself\u001b[0m\u001b[0;34m.\u001b[0m\u001b[0mread_chunked\u001b[0m\u001b[0;34m(\u001b[0m\u001b[0;34m)\u001b[0m\u001b[0;34m\u001b[0m\u001b[0;34m\u001b[0m\u001b[0m\n\u001b[0m\u001b[1;32m     70\u001b[0m \u001b[0;34m\u001b[0m\u001b[0m\n\u001b[1;32m     71\u001b[0m     \u001b[0;32mdef\u001b[0m \u001b[0mclose\u001b[0m\u001b[0;34m(\u001b[0m\u001b[0mself\u001b[0m\u001b[0;34m)\u001b[0m\u001b[0;34m:\u001b[0m\u001b[0;34m\u001b[0m\u001b[0;34m\u001b[0m\u001b[0m\n",
      "\u001b[0;32m/usr/share/miniconda/envs/how_to_eurec4a/lib/python3.8/site-packages/intake_xarray/base.py\u001b[0m in \u001b[0;36mread_chunked\u001b[0;34m(self)\u001b[0m\n\u001b[1;32m     42\u001b[0m     \u001b[0;32mdef\u001b[0m \u001b[0mread_chunked\u001b[0m\u001b[0;34m(\u001b[0m\u001b[0mself\u001b[0m\u001b[0;34m)\u001b[0m\u001b[0;34m:\u001b[0m\u001b[0;34m\u001b[0m\u001b[0;34m\u001b[0m\u001b[0m\n\u001b[1;32m     43\u001b[0m         \u001b[0;34m\"\"\"Return xarray object (which will have chunks)\"\"\"\u001b[0m\u001b[0;34m\u001b[0m\u001b[0;34m\u001b[0m\u001b[0m\n\u001b[0;32m---> 44\u001b[0;31m         \u001b[0mself\u001b[0m\u001b[0;34m.\u001b[0m\u001b[0m_load_metadata\u001b[0m\u001b[0;34m(\u001b[0m\u001b[0;34m)\u001b[0m\u001b[0;34m\u001b[0m\u001b[0;34m\u001b[0m\u001b[0m\n\u001b[0m\u001b[1;32m     45\u001b[0m         \u001b[0;32mreturn\u001b[0m \u001b[0mself\u001b[0m\u001b[0;34m.\u001b[0m\u001b[0m_ds\u001b[0m\u001b[0;34m\u001b[0m\u001b[0;34m\u001b[0m\u001b[0m\n\u001b[1;32m     46\u001b[0m \u001b[0;34m\u001b[0m\u001b[0m\n",
      "\u001b[0;32m/usr/share/miniconda/envs/how_to_eurec4a/lib/python3.8/site-packages/intake/source/base.py\u001b[0m in \u001b[0;36m_load_metadata\u001b[0;34m(self)\u001b[0m\n\u001b[1;32m    234\u001b[0m         \u001b[0;34m\"\"\"load metadata only if needed\"\"\"\u001b[0m\u001b[0;34m\u001b[0m\u001b[0;34m\u001b[0m\u001b[0m\n\u001b[1;32m    235\u001b[0m         \u001b[0;32mif\u001b[0m \u001b[0mself\u001b[0m\u001b[0;34m.\u001b[0m\u001b[0m_schema\u001b[0m \u001b[0;32mis\u001b[0m \u001b[0;32mNone\u001b[0m\u001b[0;34m:\u001b[0m\u001b[0;34m\u001b[0m\u001b[0;34m\u001b[0m\u001b[0m\n\u001b[0;32m--> 236\u001b[0;31m             \u001b[0mself\u001b[0m\u001b[0;34m.\u001b[0m\u001b[0m_schema\u001b[0m \u001b[0;34m=\u001b[0m \u001b[0mself\u001b[0m\u001b[0;34m.\u001b[0m\u001b[0m_get_schema\u001b[0m\u001b[0;34m(\u001b[0m\u001b[0;34m)\u001b[0m\u001b[0;34m\u001b[0m\u001b[0;34m\u001b[0m\u001b[0m\n\u001b[0m\u001b[1;32m    237\u001b[0m             \u001b[0mself\u001b[0m\u001b[0;34m.\u001b[0m\u001b[0mdtype\u001b[0m \u001b[0;34m=\u001b[0m \u001b[0mself\u001b[0m\u001b[0;34m.\u001b[0m\u001b[0m_schema\u001b[0m\u001b[0;34m.\u001b[0m\u001b[0mdtype\u001b[0m\u001b[0;34m\u001b[0m\u001b[0;34m\u001b[0m\u001b[0m\n\u001b[1;32m    238\u001b[0m             \u001b[0mself\u001b[0m\u001b[0;34m.\u001b[0m\u001b[0mshape\u001b[0m \u001b[0;34m=\u001b[0m \u001b[0mself\u001b[0m\u001b[0;34m.\u001b[0m\u001b[0m_schema\u001b[0m\u001b[0;34m.\u001b[0m\u001b[0mshape\u001b[0m\u001b[0;34m\u001b[0m\u001b[0;34m\u001b[0m\u001b[0m\n",
      "\u001b[0;32m/usr/share/miniconda/envs/how_to_eurec4a/lib/python3.8/site-packages/intake_xarray/base.py\u001b[0m in \u001b[0;36m_get_schema\u001b[0;34m(self)\u001b[0m\n\u001b[1;32m     16\u001b[0m \u001b[0;34m\u001b[0m\u001b[0m\n\u001b[1;32m     17\u001b[0m         \u001b[0;32mif\u001b[0m \u001b[0mself\u001b[0m\u001b[0;34m.\u001b[0m\u001b[0m_ds\u001b[0m \u001b[0;32mis\u001b[0m \u001b[0;32mNone\u001b[0m\u001b[0;34m:\u001b[0m\u001b[0;34m\u001b[0m\u001b[0;34m\u001b[0m\u001b[0m\n\u001b[0;32m---> 18\u001b[0;31m             \u001b[0mself\u001b[0m\u001b[0;34m.\u001b[0m\u001b[0m_open_dataset\u001b[0m\u001b[0;34m(\u001b[0m\u001b[0;34m)\u001b[0m\u001b[0;34m\u001b[0m\u001b[0;34m\u001b[0m\u001b[0m\n\u001b[0m\u001b[1;32m     19\u001b[0m \u001b[0;34m\u001b[0m\u001b[0m\n\u001b[1;32m     20\u001b[0m             metadata = {\n",
      "\u001b[0;32m/usr/share/miniconda/envs/how_to_eurec4a/lib/python3.8/site-packages/intake_xarray/opendap.py\u001b[0m in \u001b[0;36m_open_dataset\u001b[0;34m(self)\u001b[0m\n\u001b[1;32m     91\u001b[0m     \u001b[0;32mdef\u001b[0m \u001b[0m_open_dataset\u001b[0m\u001b[0;34m(\u001b[0m\u001b[0mself\u001b[0m\u001b[0;34m)\u001b[0m\u001b[0;34m:\u001b[0m\u001b[0;34m\u001b[0m\u001b[0;34m\u001b[0m\u001b[0m\n\u001b[1;32m     92\u001b[0m         \u001b[0;32mimport\u001b[0m \u001b[0mxarray\u001b[0m \u001b[0;32mas\u001b[0m \u001b[0mxr\u001b[0m\u001b[0;34m\u001b[0m\u001b[0;34m\u001b[0m\u001b[0m\n\u001b[0;32m---> 93\u001b[0;31m         \u001b[0mstore\u001b[0m \u001b[0;34m=\u001b[0m \u001b[0mself\u001b[0m\u001b[0;34m.\u001b[0m\u001b[0m_get_store\u001b[0m\u001b[0;34m(\u001b[0m\u001b[0;34m)\u001b[0m\u001b[0;34m\u001b[0m\u001b[0;34m\u001b[0m\u001b[0m\n\u001b[0m\u001b[1;32m     94\u001b[0m         \u001b[0mself\u001b[0m\u001b[0;34m.\u001b[0m\u001b[0m_ds\u001b[0m \u001b[0;34m=\u001b[0m \u001b[0mxr\u001b[0m\u001b[0;34m.\u001b[0m\u001b[0mopen_dataset\u001b[0m\u001b[0;34m(\u001b[0m\u001b[0mstore\u001b[0m\u001b[0;34m,\u001b[0m \u001b[0mchunks\u001b[0m\u001b[0;34m=\u001b[0m\u001b[0mself\u001b[0m\u001b[0;34m.\u001b[0m\u001b[0mchunks\u001b[0m\u001b[0;34m,\u001b[0m \u001b[0;34m**\u001b[0m\u001b[0mself\u001b[0m\u001b[0;34m.\u001b[0m\u001b[0m_kwargs\u001b[0m\u001b[0;34m)\u001b[0m\u001b[0;34m\u001b[0m\u001b[0;34m\u001b[0m\u001b[0m\n",
      "\u001b[0;32m/usr/share/miniconda/envs/how_to_eurec4a/lib/python3.8/site-packages/intake_xarray/opendap.py\u001b[0m in \u001b[0;36m_get_store\u001b[0;34m(self)\u001b[0m\n\u001b[1;32m     83\u001b[0m             \u001b[0;32mreturn\u001b[0m \u001b[0mxr\u001b[0m\u001b[0;34m.\u001b[0m\u001b[0mbackends\u001b[0m\u001b[0;34m.\u001b[0m\u001b[0mNetCDF4DataStore\u001b[0m\u001b[0;34m.\u001b[0m\u001b[0mopen\u001b[0m\u001b[0;34m(\u001b[0m\u001b[0mself\u001b[0m\u001b[0;34m.\u001b[0m\u001b[0murlpath\u001b[0m\u001b[0;34m)\u001b[0m\u001b[0;34m\u001b[0m\u001b[0;34m\u001b[0m\u001b[0m\n\u001b[1;32m     84\u001b[0m         \u001b[0;32melif\u001b[0m \u001b[0mself\u001b[0m\u001b[0;34m.\u001b[0m\u001b[0mengine\u001b[0m \u001b[0;34m==\u001b[0m \u001b[0;34m\"pydap\"\u001b[0m\u001b[0;34m:\u001b[0m\u001b[0;34m\u001b[0m\u001b[0;34m\u001b[0m\u001b[0m\n\u001b[0;32m---> 85\u001b[0;31m             \u001b[0;32mreturn\u001b[0m \u001b[0mxr\u001b[0m\u001b[0;34m.\u001b[0m\u001b[0mbackends\u001b[0m\u001b[0;34m.\u001b[0m\u001b[0mPydapDataStore\u001b[0m\u001b[0;34m.\u001b[0m\u001b[0mopen\u001b[0m\u001b[0;34m(\u001b[0m\u001b[0mself\u001b[0m\u001b[0;34m.\u001b[0m\u001b[0murlpath\u001b[0m\u001b[0;34m,\u001b[0m \u001b[0msession\u001b[0m\u001b[0;34m=\u001b[0m\u001b[0msession\u001b[0m\u001b[0;34m)\u001b[0m\u001b[0;34m\u001b[0m\u001b[0;34m\u001b[0m\u001b[0m\n\u001b[0m\u001b[1;32m     86\u001b[0m         \u001b[0;32melse\u001b[0m\u001b[0;34m:\u001b[0m\u001b[0;34m\u001b[0m\u001b[0;34m\u001b[0m\u001b[0m\n\u001b[1;32m     87\u001b[0m             raise ValueError(\n",
      "\u001b[0;32m/usr/share/miniconda/envs/how_to_eurec4a/lib/python3.8/site-packages/xarray/backends/pydap_.py\u001b[0m in \u001b[0;36mopen\u001b[0;34m(cls, url, session)\u001b[0m\n\u001b[1;32m     91\u001b[0m     \u001b[0;32mdef\u001b[0m \u001b[0mopen\u001b[0m\u001b[0;34m(\u001b[0m\u001b[0mcls\u001b[0m\u001b[0;34m,\u001b[0m \u001b[0murl\u001b[0m\u001b[0;34m,\u001b[0m \u001b[0msession\u001b[0m\u001b[0;34m=\u001b[0m\u001b[0;32mNone\u001b[0m\u001b[0;34m)\u001b[0m\u001b[0;34m:\u001b[0m\u001b[0;34m\u001b[0m\u001b[0;34m\u001b[0m\u001b[0m\n\u001b[1;32m     92\u001b[0m \u001b[0;34m\u001b[0m\u001b[0m\n\u001b[0;32m---> 93\u001b[0;31m         \u001b[0mds\u001b[0m \u001b[0;34m=\u001b[0m \u001b[0mpydap\u001b[0m\u001b[0;34m.\u001b[0m\u001b[0mclient\u001b[0m\u001b[0;34m.\u001b[0m\u001b[0mopen_url\u001b[0m\u001b[0;34m(\u001b[0m\u001b[0murl\u001b[0m\u001b[0;34m,\u001b[0m \u001b[0msession\u001b[0m\u001b[0;34m=\u001b[0m\u001b[0msession\u001b[0m\u001b[0;34m)\u001b[0m\u001b[0;34m\u001b[0m\u001b[0;34m\u001b[0m\u001b[0m\n\u001b[0m\u001b[1;32m     94\u001b[0m         \u001b[0;32mreturn\u001b[0m \u001b[0mcls\u001b[0m\u001b[0;34m(\u001b[0m\u001b[0mds\u001b[0m\u001b[0;34m)\u001b[0m\u001b[0;34m\u001b[0m\u001b[0;34m\u001b[0m\u001b[0m\n\u001b[1;32m     95\u001b[0m \u001b[0;34m\u001b[0m\u001b[0m\n",
      "\u001b[0;32m/usr/share/miniconda/envs/how_to_eurec4a/lib/python3.8/site-packages/pydap/client.py\u001b[0m in \u001b[0;36mopen_url\u001b[0;34m(url, application, session, output_grid, timeout)\u001b[0m\n\u001b[1;32m     64\u001b[0m     \u001b[0mnever\u001b[0m \u001b[0mretrieve\u001b[0m \u001b[0mcoordinate\u001b[0m \u001b[0maxes\u001b[0m\u001b[0;34m.\u001b[0m\u001b[0;34m\u001b[0m\u001b[0;34m\u001b[0m\u001b[0m\n\u001b[1;32m     65\u001b[0m     \"\"\"\n\u001b[0;32m---> 66\u001b[0;31m     dataset = DAPHandler(url, application, session, output_grid,\n\u001b[0m\u001b[1;32m     67\u001b[0m                          timeout).dataset\n\u001b[1;32m     68\u001b[0m \u001b[0;34m\u001b[0m\u001b[0m\n",
      "\u001b[0;32m/usr/share/miniconda/envs/how_to_eurec4a/lib/python3.8/site-packages/pydap/handlers/dap.py\u001b[0m in \u001b[0;36m__init__\u001b[0;34m(self, url, application, session, output_grid, timeout)\u001b[0m\n\u001b[1;32m     52\u001b[0m         \u001b[0mddsurl\u001b[0m \u001b[0;34m=\u001b[0m \u001b[0murlunsplit\u001b[0m\u001b[0;34m(\u001b[0m\u001b[0;34m(\u001b[0m\u001b[0mscheme\u001b[0m\u001b[0;34m,\u001b[0m \u001b[0mnetloc\u001b[0m\u001b[0;34m,\u001b[0m \u001b[0mpath\u001b[0m \u001b[0;34m+\u001b[0m \u001b[0;34m'.dds'\u001b[0m\u001b[0;34m,\u001b[0m \u001b[0mquery\u001b[0m\u001b[0;34m,\u001b[0m \u001b[0mfragment\u001b[0m\u001b[0;34m)\u001b[0m\u001b[0;34m)\u001b[0m\u001b[0;34m\u001b[0m\u001b[0;34m\u001b[0m\u001b[0m\n\u001b[1;32m     53\u001b[0m         \u001b[0mr\u001b[0m \u001b[0;34m=\u001b[0m \u001b[0mGET\u001b[0m\u001b[0;34m(\u001b[0m\u001b[0mddsurl\u001b[0m\u001b[0;34m,\u001b[0m \u001b[0mapplication\u001b[0m\u001b[0;34m,\u001b[0m \u001b[0msession\u001b[0m\u001b[0;34m,\u001b[0m \u001b[0mtimeout\u001b[0m\u001b[0;34m=\u001b[0m\u001b[0mtimeout\u001b[0m\u001b[0;34m)\u001b[0m\u001b[0;34m\u001b[0m\u001b[0;34m\u001b[0m\u001b[0m\n\u001b[0;32m---> 54\u001b[0;31m         \u001b[0mraise_for_status\u001b[0m\u001b[0;34m(\u001b[0m\u001b[0mr\u001b[0m\u001b[0;34m)\u001b[0m\u001b[0;34m\u001b[0m\u001b[0;34m\u001b[0m\u001b[0m\n\u001b[0m\u001b[1;32m     55\u001b[0m         \u001b[0;32mif\u001b[0m \u001b[0;32mnot\u001b[0m \u001b[0mr\u001b[0m\u001b[0;34m.\u001b[0m\u001b[0mcharset\u001b[0m\u001b[0;34m:\u001b[0m\u001b[0;34m\u001b[0m\u001b[0;34m\u001b[0m\u001b[0m\n\u001b[1;32m     56\u001b[0m             \u001b[0mr\u001b[0m\u001b[0;34m.\u001b[0m\u001b[0mcharset\u001b[0m \u001b[0;34m=\u001b[0m \u001b[0;34m'ascii'\u001b[0m\u001b[0;34m\u001b[0m\u001b[0;34m\u001b[0m\u001b[0m\n",
      "\u001b[0;32m/usr/share/miniconda/envs/how_to_eurec4a/lib/python3.8/site-packages/pydap/net.py\u001b[0m in \u001b[0;36mraise_for_status\u001b[0;34m(response)\u001b[0m\n\u001b[1;32m     31\u001b[0m     \u001b[0;31m# Raise error if status is above 300:\u001b[0m\u001b[0;34m\u001b[0m\u001b[0;34m\u001b[0m\u001b[0;34m\u001b[0m\u001b[0m\n\u001b[1;32m     32\u001b[0m     \u001b[0;32mif\u001b[0m \u001b[0mresponse\u001b[0m\u001b[0;34m.\u001b[0m\u001b[0mstatus_code\u001b[0m \u001b[0;34m>=\u001b[0m \u001b[0;36m300\u001b[0m\u001b[0;34m:\u001b[0m\u001b[0;34m\u001b[0m\u001b[0;34m\u001b[0m\u001b[0m\n\u001b[0;32m---> 33\u001b[0;31m         raise HTTPError(\n\u001b[0m\u001b[1;32m     34\u001b[0m             \u001b[0mdetail\u001b[0m\u001b[0;34m=\u001b[0m\u001b[0mresponse\u001b[0m\u001b[0;34m.\u001b[0m\u001b[0mstatus\u001b[0m\u001b[0;34m+\u001b[0m\u001b[0;34m'\\n'\u001b[0m\u001b[0;34m+\u001b[0m\u001b[0mresponse\u001b[0m\u001b[0;34m.\u001b[0m\u001b[0mtext\u001b[0m\u001b[0;34m,\u001b[0m\u001b[0;34m\u001b[0m\u001b[0;34m\u001b[0m\u001b[0m\n\u001b[1;32m     35\u001b[0m             \u001b[0mheaders\u001b[0m\u001b[0;34m=\u001b[0m\u001b[0mresponse\u001b[0m\u001b[0;34m.\u001b[0m\u001b[0mheaders\u001b[0m\u001b[0;34m,\u001b[0m\u001b[0;34m\u001b[0m\u001b[0;34m\u001b[0m\u001b[0m\n",
      "\u001b[0;31mHTTPError\u001b[0m: 404 Not Found\nError {\n    code = 404;\n    message = \"Datasets/ATOMIC/data/swift_drifters/EUREC4A_ATOMIC_SWIFT16_All_v2.1.nc\";\n};\n"
     ]
    }
   ],
   "source": [
    "axbts = cat.P3.AXBT.Level_3.to_dask()\n",
    "swifts = [cat[s].all.to_dask() for s in list(cat) if \"SWIFT\" in s]\n",
    "axbt_dates = np.intersect1d(np.unique(axbts.time.astype(\"datetime64[D]\").values),\n",
    "                            flight_dates)\n",
    "\n",
    "swift_candidates = np.unique(np.concatenate([swift.time.astype('datetime64[D]').values\n",
    "                                             for swift in swifts]))\n",
    "# Dates with potential SWIFT/P-3 overlap\n",
    "swift_dates = np.intersect1d(swift_candidates, axbt_dates)"
   ]
  },
  {
   "cell_type": "markdown",
   "id": "d8e7b08b",
   "metadata": {},
   "source": [
    "For plotting purposes it'll be handy to define a one-day time window and to convert between date/time formats"
   ]
  },
  {
   "cell_type": "code",
   "execution_count": null,
   "id": "25b2a2fb",
   "metadata": {},
   "outputs": [],
   "source": [
    "one_day = np.timedelta64(1, \"D\")\n",
    "\n",
    "def to_datetime(dt64):\n",
    "    epoch = np.datetime64(\"1970-01-01\")\n",
    "    second = np.timedelta64(1, \"s\")\n",
    "    return datetime.datetime.utcfromtimestamp((dt64 - epoch) / second)"
   ]
  },
  {
   "cell_type": "markdown",
   "id": "1764420f",
   "metadata": {},
   "source": [
    "Now we can make a map that shows where the AXBTs were deployed and where the SWIFTs\n",
    "were on days there the two platforms overlapped"
   ]
  },
  {
   "cell_type": "code",
   "execution_count": null,
   "id": "057ee762",
   "metadata": {},
   "outputs": [],
   "source": [
    "fig = plt.figure(figsize = (8.3, 9.4))\n",
    "ax  = set_up_map(plt)\n",
    "add_gridlines(ax)\n",
    "\n",
    "#\n",
    "# AXBT locations\n",
    "#\n",
    "for d in axbt_dates:\n",
    "    flight = axbts.sel(time=slice(d, d + one_day))\n",
    "    ax.scatter(flight.lon, flight.lat,\n",
    "               lw=2, alpha=0.5, color=color_of_day(d),\n",
    "               transform=ccrs.PlateCarree(), zorder=7,\n",
    "               label=f\"{to_datetime(d):%m-%d}\")\n",
    "\n",
    "#\n",
    "# SWIFT locations on selected dates (where there's overlap)\n",
    "#\n",
    "for d in swift_dates:\n",
    "    flight = axbts.sel(time=slice(d, d + one_day))\n",
    "    for swift in swifts:\n",
    "        drift = swift.sel(time = flight.time.mean(), method = \"nearest\")\n",
    "        ax.scatter(drift.lon, drift.lat,\n",
    "                   alpha=1, color=color_of_day(d),\n",
    "                   transform=ccrs.PlateCarree(), zorder=7, marker = \"p\")\n",
    "\n",
    "plt.legend(ncol=2,loc=(0.0,0.0),fontsize=12,framealpha=0.8,markerscale=1,\n",
    "           title=\"Flight date (MM-DD-2020)\")"
   ]
  },
  {
   "cell_type": "markdown",
   "id": "65d20aba",
   "metadata": {},
   "source": [
    "On 19 Jan and 3 Feb the AXBTs bracket the SWIFTs; on 23 Jan the SWIFTs are at\n",
    "the southern end of the AXBT pattern.\n",
    "\n",
    "The next plot will focus on 19 Jan.\n",
    "Let's look at the profile of ocean temperature in the first 150 m from the AXBTs\n",
    "and compare the near-surface temperatures to the SWIFTs they are surrounding."
   ]
  },
  {
   "cell_type": "code",
   "execution_count": null,
   "id": "142e95f2",
   "metadata": {},
   "outputs": [],
   "source": [
    "fig, ax = plt.subplots(figsize=[8.3, 9.4])\n",
    "d = np.datetime64(\"2020-01-19\")\n",
    "axbt_1day   = axbts.sel(time=slice(d, d + one_day))\n",
    "# Swift data at mean of AXBT times\n",
    "swifts_1day = [s.sel(time = axbt_1day.time.mean(), method = \"nearest\") for s in swifts]\n",
    "\n",
    "axbt_1day.temperature.where(axbt_1day.depth < 150).plot.line(y=\"depth\",\n",
    "                                                             add_legend=False, yincrease=False)\n",
    "ax.set_xlabel(\"Sea water temperature (K)\")\n",
    "ax.set_ylabel(\"Depth (m)\")\n",
    "\n",
    "#\n",
    "# Inset plot! https://matplotlib.org/3.1.1/gallery/subplots_axes_and_figures/zoom_inset_axes.html\n",
    "#\n",
    "axin = ax.inset_axes([0.06, 0.84, 0.6, 0.12])\n",
    "axin.scatter([s.sea_water_temperature.values + 273.15 for s in swifts_1day],\n",
    "             # SWIFTs 16 and 17 report water temperature at 0.5 m depth; SWIFTs 23-25 report at 0.3 m\n",
    "             # See the variable long_name or  Tables 8 and 9 of Quinn et al.\n",
    "             [0.5 if '0.5' in s.sea_water_temperature.long_name else 0.3 for s in swifts_1day],\n",
    "             color=\"0.25\",\n",
    "             s = 1.5 * plt.rcParams['lines.markersize'] ** 2)\n",
    "axbt_1day.temperature.where(axbt_1day.depth < 3).plot.line(y=\"depth\",\n",
    "                                                           add_legend=False,\n",
    "                                                           yincrease=False, ax = axin)\n",
    "axin.set_xlabel(\"Sea water temperature (K)\")\n",
    "axin.set_ylabel(\"Depth (m)\")\n",
    "ax.indicate_inset_zoom(axin)"
   ]
  }
 ],
 "metadata": {
  "jupytext": {
   "text_representation": {
    "extension": ".md",
    "format_name": "myst",
    "format_version": 0.13,
    "jupytext_version": "1.11.2"
   }
  },
  "kernelspec": {
   "display_name": "Python 3",
   "language": "python",
   "name": "python3"
  },
  "language_info": {
   "codemirror_mode": {
    "name": "ipython",
    "version": 3
   },
   "file_extension": ".py",
   "mimetype": "text/x-python",
   "name": "python",
   "nbconvert_exporter": "python",
   "pygments_lexer": "ipython3",
   "version": "3.8.12"
  },
  "source_map": [
   12,
   27,
   38,
   43,
   78,
   82,
   87,
   94,
   109,
   114,
   124,
   128,
   135,
   140,
   168,
   177
  ]
 },
 "nbformat": 4,
 "nbformat_minor": 5
}