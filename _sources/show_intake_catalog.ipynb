{
 "cells": [
  {
   "cell_type": "markdown",
   "id": "2a62898d",
   "metadata": {},
   "source": [
    "# Show the intake catalog\n",
    "\n",
    "The eurec4a intake catalog is maintained on github at [eurec4a/eurec4a-intake](https://github.com/eurec4a/eurec4a-intake). The structure of the files however does not represent the structure of the catalog. In order to get a quick overview about its contents, here's a little script which prints out the current catalog tree."
   ]
  },
  {
   "cell_type": "code",
   "execution_count": 1,
   "id": "f332afbf",
   "metadata": {},
   "outputs": [],
   "source": [
    "import eurec4a"
   ]
  },
  {
   "cell_type": "code",
   "execution_count": 2,
   "id": "ffaddbf1",
   "metadata": {},
   "outputs": [],
   "source": [
    "cat = eurec4a.get_intake_catalog()"
   ]
  },
  {
   "cell_type": "code",
   "execution_count": 3,
   "id": "ace84947",
   "metadata": {},
   "outputs": [],
   "source": [
    "def tree(cat, level=0):\n",
    "    prefix = \" \" * (3*level)\n",
    "    try:\n",
    "        for child in list(cat):\n",
    "            parameters = [p[\"name\"] for p in cat[child].describe().get(\"user_parameters\", [])]\n",
    "            if len(parameters) > 0:\n",
    "                parameter_str = \" (\" + \", \".join(parameters) + \")\"\n",
    "            else:\n",
    "                parameter_str = \"\"\n",
    "            print(prefix + str(child) + parameter_str)\n",
    "            tree(cat[child], level+1)\n",
    "    except:\n",
    "        pass"
   ]
  },
  {
   "cell_type": "code",
   "execution_count": 4,
   "id": "47e3c82a",
   "metadata": {},
   "outputs": [
    {
     "name": "stdout",
     "output_type": "stream",
     "text": [
      "radiosondes\n",
      "   atalante_meteomodem\n",
      "   atalante_vaisala\n",
      "   bco\n",
      "   meteor\n",
      "   ms_merian\n",
      "   ronbrown\n",
      "barbados\n",
      "   bco\n"
     ]
    },
    {
     "name": "stdout",
     "output_type": "stream",
     "text": [
      "      CORAL_LIDAR (version, date, dt, content_type)\n",
      "Atalante\n",
      "   track\n",
      "ATR\n",
      "   track\n",
      "BOREAL\n"
     ]
    },
    {
     "name": "stdout",
     "output_type": "stream",
     "text": [
      "   track\n",
      "CU-RAAVEN\n",
      "   track\n",
      "Caravela\n",
      "   track\n",
      "HALO\n"
     ]
    },
    {
     "name": "stdout",
     "output_type": "stream",
     "text": [
      "   BAHAMAS\n",
      "      QL\n",
      "         HALO-0119\n",
      "         HALO-0122\n",
      "         HALO-0124\n",
      "         HALO-0126\n",
      "         HALO-0128\n",
      "         HALO-0130\n",
      "         HALO-0131\n",
      "         HALO-0202\n",
      "         HALO-0205\n",
      "         HALO-0207\n",
      "         HALO-0209\n",
      "         HALO-0211\n",
      "         HALO-0213\n",
      "         HALO-0215\n",
      "         HALO-0218\n",
      "      PositionAttitude\n",
      "         HALO-0115\n",
      "         HALO-0118\n",
      "         HALO-0119\n",
      "         HALO-0122\n",
      "         HALO-0124\n",
      "         HALO-0126\n",
      "         HALO-0128\n",
      "         HALO-0130\n",
      "         HALO-0131\n",
      "         HALO-0202\n",
      "         HALO-0205\n",
      "         HALO-0207\n",
      "         HALO-0209\n",
      "         HALO-0211\n",
      "         HALO-0213\n",
      "         HALO-0215\n",
      "         HALO-0218\n",
      "   specMACS\n",
      "      cloudmaskSWIR\n"
     ]
    },
    {
     "name": "stdout",
     "output_type": "stream",
     "text": [
      "         HALO-0119\n",
      "         HALO-0122\n",
      "         HALO-0124\n",
      "         HALO-0126\n",
      "         HALO-0128\n",
      "         HALO-0130\n",
      "         HALO-0131\n",
      "         HALO-0202\n",
      "         HALO-0205\n",
      "         HALO-0207\n",
      "         HALO-0209\n",
      "         HALO-0211\n",
      "         HALO-0213\n",
      "         HALO-0215\n",
      "         HALO-0218\n",
      "      experimental\n",
      "         points\n",
      "            HALO-0205_sl1\n",
      "            HALO-0205_sl2\n",
      "            HALO-0205_sl3\n",
      "            HALO-0205_sl4\n",
      "         centroids\n"
     ]
    },
    {
     "name": "stdout",
     "output_type": "stream",
     "text": [
      "            HALO-0205_sl1\n",
      "            HALO-0205_sl2\n",
      "            HALO-0205_sl3\n",
      "            HALO-0205_sl4\n",
      "         mesh\n",
      "            HALO-0205_sl1\n",
      "            HALO-0205_sl2\n",
      "            HALO-0205_sl3\n",
      "            HALO-0205_sl4\n",
      "   UNIFIED\n",
      "      dropsondes\n"
     ]
    },
    {
     "name": "stdout",
     "output_type": "stream",
     "text": [
      "         HALO-0119\n",
      "         HALO-0122\n",
      "         HALO-0124\n",
      "         HALO-0126\n",
      "         HALO-0128\n",
      "         HALO-0130\n",
      "         HALO-0131\n",
      "         HALO-0202\n",
      "         HALO-0205\n",
      "         HALO-0207\n",
      "         HALO-0209\n",
      "         HALO-0211\n",
      "         HALO-0213\n",
      "         HALO-0215\n",
      "         HALO-0218\n",
      "      HAMPradar\n",
      "         HALO-0119\n",
      "         HALO-0122\n",
      "         HALO-0124\n",
      "         HALO-0126\n",
      "         HALO-0128\n",
      "         HALO-0130\n",
      "         HALO-0131\n",
      "         HALO-0202\n",
      "         HALO-0205\n",
      "         HALO-0207\n",
      "         HALO-0209\n",
      "         HALO-0211\n",
      "         HALO-0213\n",
      "         HALO-0215\n",
      "         HALO-0218\n",
      "      HAMPradiometer\n",
      "         HALO-0119\n",
      "         HALO-0122\n",
      "         HALO-0124\n",
      "         HALO-0126\n",
      "         HALO-0128\n",
      "         HALO-0130\n",
      "         HALO-0131\n",
      "         HALO-0202\n",
      "         HALO-0205\n",
      "         HALO-0207\n",
      "         HALO-0209\n",
      "         HALO-0211\n",
      "         HALO-0213\n",
      "         HALO-0215\n",
      "         HALO-0218\n",
      "      BAHAMAS\n"
     ]
    },
    {
     "name": "stdout",
     "output_type": "stream",
     "text": [
      "         HALO-0119\n",
      "         HALO-0122\n",
      "         HALO-0124\n",
      "         HALO-0126\n",
      "         HALO-0128\n",
      "         HALO-0130\n",
      "         HALO-0131\n",
      "         HALO-0202\n",
      "         HALO-0205\n",
      "         HALO-0207\n",
      "         HALO-0209\n",
      "         HALO-0211\n",
      "         HALO-0213\n",
      "         HALO-0215\n",
      "         HALO-0218\n",
      "      HAMPradiometer_cloudmask\n",
      "         HALO-0119\n",
      "         HALO-0122\n",
      "         HALO-0124\n",
      "         HALO-0126\n",
      "         HALO-0128\n",
      "         HALO-0130\n",
      "         HALO-0131\n",
      "         HALO-0202\n",
      "         HALO-0205\n",
      "         HALO-0207\n",
      "         HALO-0209\n",
      "         HALO-0211\n",
      "         HALO-0213\n",
      "         HALO-0215\n",
      "         HALO-0218\n",
      "      HAMPradar_cloudmask\n",
      "         HALO-0119\n",
      "         HALO-0122\n",
      "         HALO-0124\n",
      "         HALO-0126\n",
      "         HALO-0128\n",
      "         HALO-0130\n",
      "         HALO-0131\n",
      "         HALO-0202\n",
      "         HALO-0205\n",
      "         HALO-0207\n",
      "         HALO-0209\n",
      "         HALO-0211\n",
      "         HALO-0213\n",
      "         HALO-0215\n",
      "         HALO-0218\n",
      "      HAMPradiometer_retrievals\n"
     ]
    },
    {
     "name": "stdout",
     "output_type": "stream",
     "text": [
      "         HALO-0119\n",
      "         HALO-0122\n",
      "         HALO-0124\n",
      "         HALO-0126\n",
      "         HALO-0128\n",
      "         HALO-0130\n",
      "         HALO-0131\n",
      "         HALO-0202\n",
      "         HALO-0205\n",
      "         HALO-0207\n",
      "         HALO-0209\n",
      "         HALO-0211\n",
      "         HALO-0213\n",
      "         HALO-0215\n",
      "         HALO-0218\n",
      "   SMART\n",
      "      spectral_irradiances\n",
      "         HALO-0122\n",
      "         HALO-0124\n",
      "         HALO-0126\n",
      "         HALO-0128\n",
      "         HALO-0130\n",
      "         HALO-0131\n",
      "         HALO-0202\n",
      "         HALO-0205\n",
      "         HALO-0207\n",
      "         HALO-0209\n",
      "         HALO-0211\n",
      "         HALO-0213\n",
      "         HALO-0215\n",
      "   VELOX\n"
     ]
    },
    {
     "name": "stdout",
     "output_type": "stream",
     "text": [
      "      cloudmask\n",
      "         HALO-0124\n",
      "         HALO-0126\n",
      "         HALO-0128\n",
      "         HALO-0130\n",
      "         HALO-0131\n",
      "         HALO-0202\n",
      "         HALO-0205\n",
      "         HALO-0207\n",
      "         HALO-0209\n",
      "         HALO-0211\n",
      "         HALO-0213\n",
      "         HALO-0215\n",
      "   KT19\n"
     ]
    },
    {
     "name": "stdout",
     "output_type": "stream",
     "text": [
      "      cloudmask\n",
      "         HALO-0122\n",
      "         HALO-0124\n",
      "         HALO-0126\n",
      "         HALO-0128\n",
      "         HALO-0130\n",
      "         HALO-0131\n",
      "         HALO-0202\n",
      "         HALO-0205\n",
      "         HALO-0207\n",
      "         HALO-0209\n",
      "         HALO-0211\n",
      "         HALO-0213\n",
      "         HALO-0215\n",
      "   WALES\n",
      "      cloudparameter\n",
      "         HALO-0122\n",
      "         HALO-0124\n",
      "         HALO-0126\n",
      "         HALO-0128\n",
      "         HALO-0130\n",
      "         HALO-0131\n",
      "         HALO-0202\n",
      "         HALO-0205\n",
      "         HALO-0207\n",
      "         HALO-0209\n",
      "         HALO-0211\n",
      "         HALO-0213\n",
      "         HALO-0215\n",
      "      wv\n"
     ]
    },
    {
     "name": "stdout",
     "output_type": "stream",
     "text": [
      "         HALO-0122\n",
      "         HALO-0124\n",
      "         HALO-0126\n",
      "         HALO-0128\n",
      "         HALO-0130\n",
      "         HALO-0131\n",
      "         HALO-0202\n",
      "         HALO-0205\n",
      "         HALO-0207\n",
      "         HALO-0209\n",
      "         HALO-0211\n",
      "         HALO-0213\n",
      "         HALO-0215\n",
      "      adepg\n"
     ]
    },
    {
     "name": "stdout",
     "output_type": "stream",
     "text": [
      "         HALO-0122\n",
      "         HALO-0124\n",
      "         HALO-0126\n",
      "         HALO-0128\n",
      "         HALO-0130\n",
      "         HALO-0131\n",
      "         HALO-0202\n",
      "         HALO-0205\n",
      "         HALO-0207\n",
      "         HALO-0209\n",
      "         HALO-0211\n",
      "         HALO-0213\n",
      "         HALO-0215\n",
      "      bsri\n",
      "         HALO-0122\n",
      "         HALO-0124\n",
      "         HALO-0126\n",
      "         HALO-0128\n",
      "         HALO-0130\n",
      "         HALO-0131\n",
      "         HALO-0202\n",
      "         HALO-0205\n",
      "         HALO-0207\n",
      "         HALO-0209\n",
      "         HALO-0211\n",
      "         HALO-0213\n",
      "         HALO-0215\n",
      "      bsrg\n"
     ]
    },
    {
     "name": "stdout",
     "output_type": "stream",
     "text": [
      "         HALO-0122\n",
      "         HALO-0124\n",
      "         HALO-0126\n",
      "         HALO-0128\n",
      "         HALO-0130\n",
      "         HALO-0131\n",
      "         HALO-0202\n",
      "         HALO-0205\n",
      "         HALO-0207\n",
      "         HALO-0209\n",
      "         HALO-0211\n",
      "         HALO-0213\n",
      "         HALO-0215\n",
      "   BACARDI\n",
      "      irradiances\n"
     ]
    },
    {
     "name": "stdout",
     "output_type": "stream",
     "text": [
      "         HALO-0119\n",
      "         HALO-0122\n",
      "         HALO-0124\n",
      "         HALO-0126\n",
      "         HALO-0128\n",
      "         HALO-0130\n",
      "         HALO-0131\n",
      "         HALO-0202\n",
      "         HALO-0205\n",
      "         HALO-0207\n",
      "         HALO-0209\n",
      "         HALO-0211\n",
      "         HALO-0213\n",
      "         HALO-0215\n",
      "         HALO-0218\n",
      "   track\n",
      "Humpback\n",
      "   track\n",
      "IFM03\n",
      "   track\n",
      "IFM09\n"
     ]
    },
    {
     "name": "stdout",
     "output_type": "stream",
     "text": [
      "   track\n",
      "IFM12\n",
      "   track\n",
      "Kracken\n",
      "   track\n",
      "Melonhead\n"
     ]
    },
    {
     "name": "stdout",
     "output_type": "stream",
     "text": [
      "   track\n",
      "mini-MPCK\n",
      "   track\n",
      "MPCK-plus\n",
      "   track\n",
      "MS-Merian\n",
      "   track\n",
      "   FMCW94_RPG\n",
      "      motion_corrected (date)\n",
      "Omura\n"
     ]
    },
    {
     "name": "stdout",
     "output_type": "stream",
     "text": [
      "   track\n",
      "P3\n",
      "   AXBT\n",
      "      Level_3\n",
      "   flight_level\n",
      "      P3-0117\n",
      "      P3-0119\n",
      "      P3-0123\n",
      "      P3-0124\n",
      "      P3-0131\n",
      "      P3-0203\n",
      "      P3-0204\n",
      "      P3-0205\n",
      "      P3-0209\n",
      "      P3-0210\n",
      "      P3-0211\n",
      "   isotope_analyzer\n",
      "      water_vapor_1hz\n",
      "         P3-0117\n",
      "         P3-0119\n",
      "         P3-0123\n",
      "         P3-0124\n",
      "         P3-0131\n",
      "         P3-0203\n",
      "         P3-0204\n",
      "         P3-0205\n",
      "         P3-0209\n",
      "         P3-0210\n",
      "         P3-0211\n",
      "      water_vapor_5hz\n"
     ]
    },
    {
     "name": "stdout",
     "output_type": "stream",
     "text": [
      "         P3-0117\n",
      "         P3-0119\n",
      "         P3-0123\n",
      "         P3-0124\n",
      "         P3-0131\n",
      "         P3-0203\n",
      "         P3-0204\n",
      "         P3-0205\n",
      "         P3-0209\n",
      "         P3-0210\n",
      "         P3-0211\n",
      "   remote_sensing\n",
      "      P3-0117\n",
      "      P3-0119\n",
      "      P3-0123\n",
      "      P3-0124\n",
      "      P3-0131\n",
      "      P3-0203\n",
      "      P3-0204\n",
      "      P3-0205\n",
      "      P3-0209\n",
      "      P3-0210\n",
      "      P3-0211\n",
      "   track\n",
      "   w_band_radar\n",
      "      P3-0117\n",
      "      P3-0119\n",
      "      P3-0123\n",
      "      P3-0124\n",
      "      P3-0131\n",
      "      P3-0203\n",
      "      P3-0204\n",
      "      P3-0205\n",
      "      P3-0209\n",
      "      P3-0210\n",
      "      P3-0211\n",
      "   wsra\n",
      "      P3-0117\n",
      "      P3-0119\n",
      "      P3-0123\n",
      "      P3-0124\n",
      "      P3-0131\n",
      "      P3-0203\n",
      "      P3-0204\n",
      "      P3-0205\n",
      "      P3-0209\n",
      "      P3-0210\n",
      "      P3-0211\n",
      "QuadCopter\n"
     ]
    },
    {
     "name": "stdout",
     "output_type": "stream",
     "text": [
      "   track\n",
      "RonBrown\n",
      "   track\n",
      "SD-1026\n",
      "   track\n",
      "   1min\n",
      "   5min\n",
      "SD-1060\n"
     ]
    },
    {
     "name": "stdout",
     "output_type": "stream",
     "text": [
      "   track\n",
      "   1min\n",
      "   5min\n",
      "SD-1061\n",
      "   track\n",
      "   1min\n",
      "   5min\n",
      "SD-1063\n",
      "   track\n",
      "SD-1064\n"
     ]
    },
    {
     "name": "stdout",
     "output_type": "stream",
     "text": [
      "   track\n",
      "Skywalker07\n",
      "   track\n",
      "Skywalker10\n",
      "   track\n",
      "Skywalker12\n"
     ]
    },
    {
     "name": "stdout",
     "output_type": "stream",
     "text": [
      "   track\n",
      "SVP-B-4101696\n",
      "   track\n",
      "SVP-B-4101697\n",
      "   track\n",
      "SVP-B-4101698\n"
     ]
    },
    {
     "name": "stdout",
     "output_type": "stream",
     "text": [
      "   track\n",
      "SVP-B-4101699\n",
      "   track\n",
      "SVP-B-4101780\n",
      "   track\n",
      "SVP-BRST-4402505\n"
     ]
    },
    {
     "name": "stdout",
     "output_type": "stream",
     "text": [
      "   track\n",
      "SVP-BRST-4402506\n",
      "   track\n",
      "SVP-BRST-4402507\n",
      "   track\n",
      "SVP-BRST-4402508\n"
     ]
    },
    {
     "name": "stdout",
     "output_type": "stream",
     "text": [
      "   track\n",
      "SVP-BRST-6203717\n",
      "   track\n",
      "SVP-BS-4101757\n",
      "   track\n",
      "SVP-BS-4101758\n"
     ]
    },
    {
     "name": "stdout",
     "output_type": "stream",
     "text": [
      "   track\n",
      "SVP-BSW-3101569\n",
      "   track\n",
      "SVP-BSW-3101570\n",
      "   track\n",
      "SVP-BSW-3101571\n"
     ]
    },
    {
     "name": "stdout",
     "output_type": "stream",
     "text": [
      "   track\n",
      "SVP-BSW-3101572\n",
      "   track\n",
      "SVP-BSW-3101573\n",
      "   track\n",
      "SVP-BSW-3101574\n"
     ]
    },
    {
     "name": "stdout",
     "output_type": "stream",
     "text": [
      "   track\n",
      "SVP-BSW-3101575\n",
      "   track\n",
      "SVP-BSW-3101576\n",
      "   track\n",
      "SVP-BSW-3101577\n"
     ]
    },
    {
     "name": "stdout",
     "output_type": "stream",
     "text": [
      "   track\n",
      "SVP-BSW-3101578\n",
      "   track\n",
      "SWIFT16\n",
      "   track\n",
      "   all\n",
      "SWIFT17\n",
      "   track\n",
      "   all\n",
      "SWIFT22\n",
      "   track\n",
      "   all\n",
      "SWIFT23\n",
      "   track\n",
      "   all\n",
      "SWIFT24\n",
      "   track\n",
      "   all\n",
      "SWIFT25\n",
      "   track\n",
      "   all\n",
      "TO\n"
     ]
    },
    {
     "name": "stdout",
     "output_type": "stream",
     "text": [
      "   track\n",
      "WG245\n",
      "   track\n",
      "WG247\n",
      "   track\n",
      "dropsondes\n",
      "   JOANNE\n",
      "      level3\n",
      "satellites\n"
     ]
    },
    {
     "name": "stdout",
     "output_type": "stream",
     "text": [
      "   GOES16\n",
      "      latlongrid (resolution, channel, date)\n",
      "radiative_profiles\n",
      "   clear_sky (version)\n",
      "Meteor\n"
     ]
    },
    {
     "name": "stdout",
     "output_type": "stream",
     "text": [
      "   LIMRAD94\n",
      "      low_res (date)\n",
      "      high_res (date, version)\n",
      "   track\n"
     ]
    }
   ],
   "source": [
    "tree(cat)"
   ]
  },
  {
   "cell_type": "markdown",
   "id": "f8dd230b",
   "metadata": {},
   "source": [
    "There's also a graphical user interface (GUI) implemented in intake. The GUI additionally requires the `panel` python package and it interactively queries the catalog, so it doesn't work nicely in a book. This is why the following lines of code are commented out, but they can be used in an interactive notebook."
   ]
  },
  {
   "cell_type": "code",
   "execution_count": 5,
   "id": "3b8f935f",
   "metadata": {},
   "outputs": [],
   "source": [
    "#import intake\n",
    "#intake.gui.add(cat)\n",
    "#intake.gui.panel"
   ]
  }
 ],
 "metadata": {
  "jupytext": {
   "text_representation": {
    "extension": ".md",
    "format_name": "myst",
    "format_version": 0.12,
    "jupytext_version": "1.7.1"
   }
  },
  "kernelspec": {
   "display_name": "Python 3",
   "language": "python",
   "name": "python3"
  },
  "language_info": {
   "codemirror_mode": {
    "name": "ipython",
    "version": 3
   },
   "file_extension": ".py",
   "mimetype": "text/x-python",
   "name": "python",
   "nbconvert_exporter": "python",
   "pygments_lexer": "ipython3",
   "version": "3.8.8"
  },
  "source_map": [
   12,
   18,
   22,
   26,
   42,
   44,
   48
  ]
 },
 "nbformat": 4,
 "nbformat_minor": 5
}